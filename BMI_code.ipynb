{
 "cells": [
  {
   "cell_type": "code",
   "execution_count": 4,
   "id": "3a588c70",
   "metadata": {},
   "outputs": [],
   "source": [
    "import pandas as pd\n"
   ]
  },
  {
   "cell_type": "markdown",
   "id": "728960f6",
   "metadata": {},
   "source": [
    "# Input data in the json or csv"
   ]
  },
  {
   "cell_type": "code",
   "execution_count": 5,
   "id": "af124daa",
   "metadata": {},
   "outputs": [],
   "source": [
    "js=[{\"Gender\": \"Male\", \"HeightCm\": 171, \"WeightKg\": 96 },\n",
    "{ \"Gender\": \"Male\", \"HeightCm\": 161, \"WeightKg\": 85 },\n",
    "{ \"Gender\": \"Male\", \"HeightCm\": 180, \"WeightKg\": 77 },\n",
    "{ \"Gender\": \"Female\", \"HeightCm\": 166, \"WeightKg\": 62},\n",
    "{\"Gender\": \"Female\", \"HeightCm\": 150, \"WeightKg\": 70},\n",
    "{\"Gender\": \"Female\", \"HeightCm\": 167, \"WeightKg\": 82}]\n"
   ]
  },
  {
   "cell_type": "code",
   "execution_count": 6,
   "id": "44638896",
   "metadata": {},
   "outputs": [],
   "source": [
    "df=pd.DataFrame(js)"
   ]
  },
  {
   "cell_type": "code",
   "execution_count": 7,
   "id": "037827fa",
   "metadata": {},
   "outputs": [],
   "source": [
    "bmi ={ 'UW' :'Underweight',\n",
    "                    'NW': 'Normal Weight',\n",
    "                    'OW': 'Over Weight',\n",
    "                    'MO': 'Moderately obese',\n",
    "                    'SO': 'Severly obese',\n",
    "                    'VSO': 'Very Severly obese',\n",
    "                   }\n",
    "\n",
    "health= {\n",
    "                    'MR':'Malnutrition risk',\n",
    "                    'LR': 'Low risk',\n",
    "                    'ER': 'Enhanced risk',\n",
    "                    'MRS': 'Medium risk',\n",
    "                    'HR': 'High risk',\n",
    "                    'VHR': 'Very high risk',\n",
    "    }"
   ]
  },
  {
   "cell_type": "code",
   "execution_count": 8,
   "id": "6aa1d97b",
   "metadata": {},
   "outputs": [
    {
     "name": "stdout",
     "output_type": "stream",
     "text": [
      "{'UW': 'Underweight', 'NW': 'Normal Weight', 'OW': 'Over Weight', 'MO': 'Moderately obese', 'SO': 'Severly obese', 'VSO': 'Very Severly obese'}\n",
      "{'MR': 'Malnutrition risk', 'LR': 'Low risk', 'ER': 'Enhanced risk', 'MRS': 'Medium risk', 'HR': 'High risk', 'VHR': 'Very high risk'}\n"
     ]
    }
   ],
   "source": [
    "print (bmi)\n",
    "print (health)"
   ]
  },
  {
   "cell_type": "code",
   "execution_count": 9,
   "id": "d2b8e398",
   "metadata": {},
   "outputs": [
    {
     "name": "stdout",
     "output_type": "stream",
     "text": [
      "height 2.9240999999999997\n",
      "mass 96\n",
      "BMI 32.83061454806607\n",
      "height 2.5921000000000003\n",
      "mass 85\n",
      "BMI 32.79194475521777\n",
      "height 3.24\n",
      "mass 77\n",
      "BMI 23.76543209876543\n",
      "height 2.7556\n",
      "mass 62\n",
      "BMI 22.49963710262738\n",
      "height 2.25\n",
      "mass 70\n",
      "BMI 31.11111111111111\n",
      "height 2.7889\n",
      "mass 82\n",
      "BMI 29.402273297715947\n"
     ]
    }
   ],
   "source": [
    "# bmi_list=[]\n",
    "def calculate_bmi(df):\n",
    "    bmi_list=[]\n",
    "    for i in range(0,len(df)):\n",
    "        height=(df.loc[i].at['HeightCm']/100)**2\n",
    "        mass=df.loc[i].at['WeightKg']\n",
    "        BMI = mass/height\n",
    "        print (\"height\",height)    \n",
    "        print (\"mass\",mass)\n",
    "        print ('BMI',BMI)\n",
    "        if BMI <= 18.4 :\n",
    "            BMI_Category = bmi.get('UW')\n",
    "            BMI_range = BMI\n",
    "            Health_risk = health.get('MR')\n",
    "        elif BMI >=18.5 and BMI <= 24.9:\n",
    "            BMI_Category = bmi.get('NW')\n",
    "            BMI_range = BMI\n",
    "            Health_risk = health.get('LR')\n",
    "        elif BMI >=25 and BMI <= 29.9:\n",
    "            BMI_Category = bmi.get(\"OW\")\n",
    "            BMI_range = BMI\n",
    "            Health_risk = health.get('ER')\n",
    "        elif BMI >=30 and BMI <= 34.9:\n",
    "            BMI_Category = bmi.get(\"MO\")\n",
    "            BMI_range = BMI\n",
    "            Health_risk = health.get('MRS')\n",
    "        elif BMI >= 35 and BMI <= 39.9:\n",
    "            BMI_Category = bmi.get(\"SO\")\n",
    "            BMI_range = BMI\n",
    "            Health_risk = health.get('HR')\n",
    "        elif BMI > 40:\n",
    "            BMI_Category= bmi.get(\"VSO\")\n",
    "            BMI_range = BMI\n",
    "            Health_risk = health.get('VHR')\n",
    "        bmi_list.append([BMI_Category,BMI_range,Health_risk])\n",
    "    return  (bmi_list)\n",
    "\n",
    "bmi_table_list=calculate_bmi(df)"
   ]
  },
  {
   "cell_type": "code",
   "execution_count": 10,
   "id": "88b47802",
   "metadata": {},
   "outputs": [],
   "source": [
    "df_new = pd.DataFrame(bmi_table_list, columns = ['BMI category', 'BMI Range','Health Risk'])"
   ]
  },
  {
   "cell_type": "code",
   "execution_count": 11,
   "id": "7ccf747d",
   "metadata": {},
   "outputs": [
    {
     "name": "stdout",
     "output_type": "stream",
     "text": [
      "       BMI category  BMI Range    Health Risk\n",
      "0  Moderately obese  32.830615    Medium risk\n",
      "1  Moderately obese  32.791945    Medium risk\n",
      "2     Normal Weight  23.765432       Low risk\n",
      "3     Normal Weight  22.499637       Low risk\n",
      "4  Moderately obese  31.111111    Medium risk\n",
      "5       Over Weight  29.402273  Enhanced risk\n"
     ]
    }
   ],
   "source": [
    "print (df_new)"
   ]
  },
  {
   "cell_type": "markdown",
   "id": "bec65407",
   "metadata": {},
   "source": [
    "# Count the total number of overweight people using ranges in the column BMI Category\n"
   ]
  },
  {
   "cell_type": "code",
   "execution_count": 12,
   "id": "913e6dc4",
   "metadata": {},
   "outputs": [
    {
     "name": "stdout",
     "output_type": "stream",
     "text": [
      "1\n"
     ]
    }
   ],
   "source": [
    "print (len(df_new[df_new['BMI category']=='Over Weight']))"
   ]
  },
  {
   "cell_type": "code",
   "execution_count": null,
   "id": "c23eb02d",
   "metadata": {},
   "outputs": [],
   "source": []
  }
 ],
 "metadata": {
  "kernelspec": {
   "display_name": "Python 3",
   "language": "python",
   "name": "python3"
  },
  "language_info": {
   "codemirror_mode": {
    "name": "ipython",
    "version": 3
   },
   "file_extension": ".py",
   "mimetype": "text/x-python",
   "name": "python",
   "nbconvert_exporter": "python",
   "pygments_lexer": "ipython3",
   "version": "3.8.8"
  }
 },
 "nbformat": 4,
 "nbformat_minor": 5
}
